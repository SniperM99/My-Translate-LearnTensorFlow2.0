{
 "cells": [
  {
   "cell_type": "markdown",
   "metadata": {
    "toc": true
   },
   "source": [
    "<h1>Table of Contents<span class=\"tocSkip\"></span></h1>\n",
    "<div class=\"toc\"><ul class=\"toc-item\"><li><span><a href=\"#关于作者\" data-toc-modified-id=\"关于作者-1\"><span class=\"toc-item-num\">1&nbsp;&nbsp;</span>关于作者</a></span></li><li><span><a href=\"#关于技术审查员\" data-toc-modified-id=\"关于技术审查员-2\"><span class=\"toc-item-num\">2&nbsp;&nbsp;</span>关于技术审查员</a></span></li><li><span><a href=\"#感谢\" data-toc-modified-id=\"感谢-3\"><span class=\"toc-item-num\">3&nbsp;&nbsp;</span>感谢</a></span></li><li><span><a href=\"#引言\" data-toc-modified-id=\"引言-4\"><span class=\"toc-item-num\">4&nbsp;&nbsp;</span>引言</a></span></li><li><span><a href=\"#第一章：TensorFlow2.0介绍\" data-toc-modified-id=\"第一章：TensorFlow2.0介绍-5\"><span class=\"toc-item-num\">5&nbsp;&nbsp;</span>第一章：TensorFlow2.0介绍</a></span><ul class=\"toc-item\"><li><span><a href=\"#Tensor-+-Flow-=-TensorFlow\" data-toc-modified-id=\"Tensor-+-Flow-=-TensorFlow-5.1\"><span class=\"toc-item-num\">5.1&nbsp;&nbsp;</span>Tensor + Flow = TensorFlow</a></span><ul class=\"toc-item\"><li><span><a href=\"#组成和基本的向量\" data-toc-modified-id=\"组成和基本的向量-5.1.1\"><span class=\"toc-item-num\">5.1.1&nbsp;&nbsp;</span>组成和基本的向量</a></span></li></ul></li><li><span><a href=\"#ensor张量\" data-toc-modified-id=\"ensor张量-5.2\"><span class=\"toc-item-num\">5.2&nbsp;&nbsp;</span>ensor张量</a></span><ul class=\"toc-item\"><li><span><a href=\"#排序\" data-toc-modified-id=\"排序-5.2.1\"><span class=\"toc-item-num\">5.2.1&nbsp;&nbsp;</span>排序</a></span></li><li><span><a href=\"#形状\" data-toc-modified-id=\"形状-5.2.2\"><span class=\"toc-item-num\">5.2.2&nbsp;&nbsp;</span>形状</a></span></li><li><span><a href=\"#流动\" data-toc-modified-id=\"流动-5.2.3\"><span class=\"toc-item-num\">5.2.3&nbsp;&nbsp;</span>流动</a></span></li></ul></li><li><span><a href=\"#TensorFlow1.0-与-TensorFlow2.0-对比\" data-toc-modified-id=\"TensorFlow1.0-与-TensorFlow2.0-对比-5.3\"><span class=\"toc-item-num\">5.3&nbsp;&nbsp;</span>TensorFlow1.0 与 TensorFlow2.0 对比</a></span><ul class=\"toc-item\"><li><span><a href=\"#使用相关变动\" data-toc-modified-id=\"使用相关变动-5.3.1\"><span class=\"toc-item-num\">5.3.1&nbsp;&nbsp;</span>使用相关变动</a></span></li><li><span><a href=\"#性能相关变动\" data-toc-modified-id=\"性能相关变动-5.3.2\"><span class=\"toc-item-num\">5.3.2&nbsp;&nbsp;</span>性能相关变动</a></span></li></ul></li><li><span><a href=\"#TensorFlow2.0上的安装和基本操作\" data-toc-modified-id=\"TensorFlow2.0上的安装和基本操作-5.4\"><span class=\"toc-item-num\">5.4&nbsp;&nbsp;</span>TensorFlow2.0上的安装和基本操作</a></span><ul class=\"toc-item\"><li><span><a href=\"#Anaconda\" data-toc-modified-id=\"Anaconda-5.4.1\"><span class=\"toc-item-num\">5.4.1&nbsp;&nbsp;</span>Anaconda</a></span></li><li><span><a href=\"#Colab\" data-toc-modified-id=\"Colab-5.4.2\"><span class=\"toc-item-num\">5.4.2&nbsp;&nbsp;</span>Colab</a></span></li><li><span><a href=\"#Databricks\" data-toc-modified-id=\"Databricks-5.4.3\"><span class=\"toc-item-num\">5.4.3&nbsp;&nbsp;</span>Databricks</a></span></li></ul></li><li><span><a href=\"#总结\" data-toc-modified-id=\"总结-5.5\"><span class=\"toc-item-num\">5.5&nbsp;&nbsp;</span>总结</a></span></li></ul></li><li><span><a href=\"#第二章：使用TensorFlow进行有监督学习\" data-toc-modified-id=\"第二章：使用TensorFlow进行有监督学习-6\"><span class=\"toc-item-num\">6&nbsp;&nbsp;</span>第二章：使用TensorFlow进行有监督学习</a></span><ul class=\"toc-item\"><li><span><a href=\"#什么是有监督机器学习\" data-toc-modified-id=\"什么是有监督机器学习-6.1\"><span class=\"toc-item-num\">6.1&nbsp;&nbsp;</span>什么是有监督机器学习</a></span></li><li><span><a href=\"#TF2.0运行线性回归\" data-toc-modified-id=\"TF2.0运行线性回归-6.2\"><span class=\"toc-item-num\">6.2&nbsp;&nbsp;</span>TF2.0运行线性回归</a></span></li><li><span><a href=\"#使用TF和Keras执行线性回归模型\" data-toc-modified-id=\"使用TF和Keras执行线性回归模型-6.3\"><span class=\"toc-item-num\">6.3&nbsp;&nbsp;</span>使用TF和Keras执行线性回归模型</a></span></li><li><span><a href=\"#TF2.0运行逻辑回归\" data-toc-modified-id=\"TF2.0运行逻辑回归-6.4\"><span class=\"toc-item-num\">6.4&nbsp;&nbsp;</span>TF2.0运行逻辑回归</a></span></li><li><span><a href=\"#TF2.0运行Boosted-Trees\" data-toc-modified-id=\"TF2.0运行Boosted-Trees-6.5\"><span class=\"toc-item-num\">6.5&nbsp;&nbsp;</span>TF2.0运行Boosted Trees</a></span><ul class=\"toc-item\"><li><span><a href=\"#技术包\" data-toc-modified-id=\"技术包-6.5.1\"><span class=\"toc-item-num\">6.5.1&nbsp;&nbsp;</span>技术包</a></span></li><li><span><a href=\"#Boosting梯度\" data-toc-modified-id=\"Boosting梯度-6.5.2\"><span class=\"toc-item-num\">6.5.2&nbsp;&nbsp;</span>Boosting梯度</a></span></li></ul></li><li><span><a href=\"#总结\" data-toc-modified-id=\"总结-6.6\"><span class=\"toc-item-num\">6.6&nbsp;&nbsp;</span>总结</a></span></li></ul></li><li><span><a href=\"#第三章：使用TF进行神经网络和深度学习\" data-toc-modified-id=\"第三章：使用TF进行神经网络和深度学习-7\"><span class=\"toc-item-num\">7&nbsp;&nbsp;</span>第三章：使用TF进行神经网络和深度学习</a></span><ul class=\"toc-item\"><li><span><a href=\"#什么是神经网络\" data-toc-modified-id=\"什么是神经网络-7.1\"><span class=\"toc-item-num\">7.1&nbsp;&nbsp;</span>什么是神经网络</a></span><ul class=\"toc-item\"><li><span><a href=\"#神经元\" data-toc-modified-id=\"神经元-7.1.1\"><span class=\"toc-item-num\">7.1.1&nbsp;&nbsp;</span>神经元</a></span></li><li><span><a href=\"#人造神经网络\" data-toc-modified-id=\"人造神经网络-7.1.2\"><span class=\"toc-item-num\">7.1.2&nbsp;&nbsp;</span>人造神经网络</a></span></li><li><span><a href=\"#简单的神经网络结构\" data-toc-modified-id=\"简单的神经网络结构-7.1.3\"><span class=\"toc-item-num\">7.1.3&nbsp;&nbsp;</span>简单的神经网络结构</a></span></li></ul></li><li><span><a href=\"#前向传播和方向传播\" data-toc-modified-id=\"前向传播和方向传播-7.2\"><span class=\"toc-item-num\">7.2&nbsp;&nbsp;</span>前向传播和方向传播</a></span></li><li><span><a href=\"#使用TF2.0构建神经网络\" data-toc-modified-id=\"使用TF2.0构建神经网络-7.3\"><span class=\"toc-item-num\">7.3&nbsp;&nbsp;</span>使用TF2.0构建神经网络</a></span><ul class=\"toc-item\"><li><span><a href=\"#关于数据集\" data-toc-modified-id=\"关于数据集-7.3.1\"><span class=\"toc-item-num\">7.3.1&nbsp;&nbsp;</span>关于数据集</a></span></li></ul></li><li><span><a href=\"#深度神经网络\" data-toc-modified-id=\"深度神经网络-7.4\"><span class=\"toc-item-num\">7.4&nbsp;&nbsp;</span>深度神经网络</a></span></li><li><span><a href=\"#使用TF2.0构建深度神经网络\" data-toc-modified-id=\"使用TF2.0构建深度神经网络-7.5\"><span class=\"toc-item-num\">7.5&nbsp;&nbsp;</span>使用TF2.0构建深度神经网络</a></span></li><li><span><a href=\"#使用Keras模型进行评估\" data-toc-modified-id=\"使用Keras模型进行评估-7.6\"><span class=\"toc-item-num\">7.6&nbsp;&nbsp;</span>使用Keras模型进行评估</a></span></li><li><span><a href=\"#总结\" data-toc-modified-id=\"总结-7.7\"><span class=\"toc-item-num\">7.7&nbsp;&nbsp;</span>总结</a></span></li></ul></li><li><span><a href=\"#第四章：TF在图像领域的应用\" data-toc-modified-id=\"第四章：TF在图像领域的应用-8\"><span class=\"toc-item-num\">8&nbsp;&nbsp;</span>第四章：TF在图像领域的应用</a></span><ul class=\"toc-item\"><li><span><a href=\"#图像处理\" data-toc-modified-id=\"图像处理-8.1\"><span class=\"toc-item-num\">8.1&nbsp;&nbsp;</span>图像处理</a></span></li><li><span><a href=\"#卷积神经网络\" data-toc-modified-id=\"卷积神经网络-8.2\"><span class=\"toc-item-num\">8.2&nbsp;&nbsp;</span>卷积神经网络</a></span><ul class=\"toc-item\"><li><span><a href=\"#卷基层\" data-toc-modified-id=\"卷基层-8.2.1\"><span class=\"toc-item-num\">8.2.1&nbsp;&nbsp;</span>卷基层</a></span></li><li><span><a href=\"#池化层\" data-toc-modified-id=\"池化层-8.2.2\"><span class=\"toc-item-num\">8.2.2&nbsp;&nbsp;</span>池化层</a></span></li><li><span><a href=\"#全连接层\" data-toc-modified-id=\"全连接层-8.2.3\"><span class=\"toc-item-num\">8.2.3&nbsp;&nbsp;</span>全连接层</a></span></li></ul></li><li><span><a href=\"#使用TF2.0构建卷积网络\" data-toc-modified-id=\"使用TF2.0构建卷积网络-8.3\"><span class=\"toc-item-num\">8.3&nbsp;&nbsp;</span>使用TF2.0构建卷积网络</a></span></li><li><span><a href=\"#先进的卷积神经网络结构\" data-toc-modified-id=\"先进的卷积神经网络结构-8.4\"><span class=\"toc-item-num\">8.4&nbsp;&nbsp;</span>先进的卷积神经网络结构</a></span></li><li><span><a href=\"#迁移学习\" data-toc-modified-id=\"迁移学习-8.5\"><span class=\"toc-item-num\">8.5&nbsp;&nbsp;</span>迁移学习</a></span><ul class=\"toc-item\"><li><span><a href=\"#迁移学习和机器学习\" data-toc-modified-id=\"迁移学习和机器学习-8.5.1\"><span class=\"toc-item-num\">8.5.1&nbsp;&nbsp;</span>迁移学习和机器学习</a></span></li></ul></li><li><span><a href=\"#TF2.0构建可变自编码网络\" data-toc-modified-id=\"TF2.0构建可变自编码网络-8.6\"><span class=\"toc-item-num\">8.6&nbsp;&nbsp;</span>TF2.0构建可变自编码网络</a></span><ul class=\"toc-item\"><li><span><a href=\"#自编码\" data-toc-modified-id=\"自编码-8.6.1\"><span class=\"toc-item-num\">8.6.1&nbsp;&nbsp;</span>自编码</a></span></li><li><span><a href=\"#引用自编码\" data-toc-modified-id=\"引用自编码-8.6.2\"><span class=\"toc-item-num\">8.6.2&nbsp;&nbsp;</span>引用自编码</a></span></li><li><span><a href=\"#可变自编码网络\" data-toc-modified-id=\"可变自编码网络-8.6.3\"><span class=\"toc-item-num\">8.6.3&nbsp;&nbsp;</span>可变自编码网络</a></span></li><li><span><a href=\"#使用TF2.0执行可变自编码网络\" data-toc-modified-id=\"使用TF2.0执行可变自编码网络-8.6.4\"><span class=\"toc-item-num\">8.6.4&nbsp;&nbsp;</span>使用TF2.0执行可变自编码网络</a></span></li></ul></li><li><span><a href=\"#总结\" data-toc-modified-id=\"总结-8.7\"><span class=\"toc-item-num\">8.7&nbsp;&nbsp;</span>总结</a></span></li></ul></li><li><span><a href=\"#第五章：TF在自然语言处理领域的应用\" data-toc-modified-id=\"第五章：TF在自然语言处理领域的应用-9\"><span class=\"toc-item-num\">9&nbsp;&nbsp;</span>第五章：TF在自然语言处理领域的应用</a></span><ul class=\"toc-item\"><li><span><a href=\"#NLP总览\" data-toc-modified-id=\"NLP总览-9.1\"><span class=\"toc-item-num\">9.1&nbsp;&nbsp;</span>NLP总览</a></span></li><li><span><a href=\"#文本处理\" data-toc-modified-id=\"文本处理-9.2\"><span class=\"toc-item-num\">9.2&nbsp;&nbsp;</span>文本处理</a></span><ul class=\"toc-item\"><li><span><a href=\"#Tokenization\" data-toc-modified-id=\"Tokenization-9.2.1\"><span class=\"toc-item-num\">9.2.1&nbsp;&nbsp;</span>Tokenization</a></span></li><li><span><a href=\"#词嵌入\" data-toc-modified-id=\"词嵌入-9.2.2\"><span class=\"toc-item-num\">9.2.2&nbsp;&nbsp;</span>词嵌入</a></span></li></ul></li><li><span><a href=\"#使用TF进行文本分类\" data-toc-modified-id=\"使用TF进行文本分类-9.3\"><span class=\"toc-item-num\">9.3&nbsp;&nbsp;</span>使用TF进行文本分类</a></span><ul class=\"toc-item\"><li><span><a href=\"#文本处理\" data-toc-modified-id=\"文本处理-9.3.1\"><span class=\"toc-item-num\">9.3.1&nbsp;&nbsp;</span>文本处理</a></span></li><li><span><a href=\"#深度学习模型\" data-toc-modified-id=\"深度学习模型-9.3.2\"><span class=\"toc-item-num\">9.3.2&nbsp;&nbsp;</span>深度学习模型</a></span></li><li><span><a href=\"#嵌入\" data-toc-modified-id=\"嵌入-9.3.3\"><span class=\"toc-item-num\">9.3.3&nbsp;&nbsp;</span>嵌入</a></span></li></ul></li><li><span><a href=\"#TF项目\" data-toc-modified-id=\"TF项目-9.4\"><span class=\"toc-item-num\">9.4&nbsp;&nbsp;</span>TF项目</a></span></li><li><span><a href=\"#总结\" data-toc-modified-id=\"总结-9.5\"><span class=\"toc-item-num\">9.5&nbsp;&nbsp;</span>总结</a></span></li></ul></li><li><span><a href=\"#第六章：TF模型应用\" data-toc-modified-id=\"第六章：TF模型应用-10\"><span class=\"toc-item-num\">10&nbsp;&nbsp;</span>第六章：TF模型应用</a></span><ul class=\"toc-item\"><li><span><a href=\"#模型部署\" data-toc-modified-id=\"模型部署-10.1\"><span class=\"toc-item-num\">10.1&nbsp;&nbsp;</span>模型部署</a></span><ul class=\"toc-item\"><li><span><a href=\"#隔离\" data-toc-modified-id=\"隔离-10.1.1\"><span class=\"toc-item-num\">10.1.1&nbsp;&nbsp;</span>隔离</a></span></li><li><span><a href=\"#协作\" data-toc-modified-id=\"协作-10.1.2\"><span class=\"toc-item-num\">10.1.2&nbsp;&nbsp;</span>协作</a></span></li><li><span><a href=\"#模型升级\" data-toc-modified-id=\"模型升级-10.1.3\"><span class=\"toc-item-num\">10.1.3&nbsp;&nbsp;</span>模型升级</a></span></li><li><span><a href=\"#模型执行\" data-toc-modified-id=\"模型执行-10.1.4\"><span class=\"toc-item-num\">10.1.4&nbsp;&nbsp;</span>模型执行</a></span></li><li><span><a href=\"#负载均衡\" data-toc-modified-id=\"负载均衡-10.1.5\"><span class=\"toc-item-num\">10.1.5&nbsp;&nbsp;</span>负载均衡</a></span></li></ul></li><li><span><a href=\"#基于Python的模型部署\" data-toc-modified-id=\"基于Python的模型部署-10.2\"><span class=\"toc-item-num\">10.2&nbsp;&nbsp;</span>基于Python的模型部署</a></span><ul class=\"toc-item\"><li><span><a href=\"#保存和还原机器学习模型\" data-toc-modified-id=\"保存和还原机器学习模型-10.2.1\"><span class=\"toc-item-num\">10.2.1&nbsp;&nbsp;</span>保存和还原机器学习模型</a></span></li><li><span><a href=\"#将机器学习模型作为REST服务进行部署\" data-toc-modified-id=\"将机器学习模型作为REST服务进行部署-10.2.2\"><span class=\"toc-item-num\">10.2.2&nbsp;&nbsp;</span>将机器学习模型作为REST服务进行部署</a></span></li><li><span><a href=\"#模板\" data-toc-modified-id=\"模板-10.2.3\"><span class=\"toc-item-num\">10.2.3&nbsp;&nbsp;</span>模板</a></span></li><li><span><a href=\"#使用Flask的挑战\" data-toc-modified-id=\"使用Flask的挑战-10.2.4\"><span class=\"toc-item-num\">10.2.4&nbsp;&nbsp;</span>使用Flask的挑战</a></span></li></ul></li><li><span><a href=\"#构建基于TF的Keras模型\" data-toc-modified-id=\"构建基于TF的Keras模型-10.3\"><span class=\"toc-item-num\">10.3&nbsp;&nbsp;</span>构建基于TF的Keras模型</a></span></li><li><span><a href=\"#TF-ind-部署\" data-toc-modified-id=\"TF-ind-部署-10.4\"><span class=\"toc-item-num\">10.4&nbsp;&nbsp;</span>TF ind 部署</a></span></li><li><span><a href=\"#总结\" data-toc-modified-id=\"总结-10.5\"><span class=\"toc-item-num\">10.5&nbsp;&nbsp;</span>总结</a></span></li></ul></li><li><span><a href=\"#索引\" data-toc-modified-id=\"索引-11\"><span class=\"toc-item-num\">11&nbsp;&nbsp;</span>索引</a></span></li></ul></div>"
   ]
  },
  {
   "cell_type": "markdown",
   "metadata": {},
   "source": [
    "作者：\n",
    "\n",
    "Pramod Singh\n",
    "\n",
    "Avinash Manure\n",
    "\n",
    "译者：\n",
    "\n",
    "sniperM99\n",
    "\n",
    "\n",
    "## 关于作者\n",
    "\n",
    "## 关于技术审查员\n",
    "\n",
    "## 感谢\n",
    "\n",
    "## 引言"
   ]
  },
  {
   "cell_type": "markdown",
   "metadata": {},
   "source": [
    "## 第一章：TensorFlow2.0介绍\n",
    "\n",
    "### Tensor + Flow = TensorFlow\n",
    "\n",
    "#### 组成和基本的向量\n",
    "\n",
    "### ensor张量\n",
    "\n",
    "#### 排序\n",
    "\n",
    "#### 形状\n",
    "\n",
    "#### 流动\n",
    "\n",
    "### TensorFlow1.0 与 TensorFlow2.0 对比\n",
    "\n",
    "#### 使用相关变动\n",
    "\n",
    "#### 性能相关变动\n",
    "\n",
    "### TensorFlow2.0上的安装和基本操作\n",
    "\n",
    "#### Anaconda\n",
    "\n",
    "#### Colab\n",
    "\n",
    "#### Databricks\n",
    "\n",
    "### 总结\t"
   ]
  },
  {
   "cell_type": "markdown",
   "metadata": {},
   "source": [
    "## 第二章：使用TensorFlow进行有监督学习\n",
    "\n",
    "### 什么是有监督机器学习\n",
    "\n",
    "### TF2.0运行线性回归\n",
    "\n",
    "### 使用TF和Keras执行线性回归模型\n",
    "\n",
    "### TF2.0运行逻辑回归\n",
    "\n",
    "### TF2.0运行Boosted Trees\n",
    "\n",
    "#### 技术包\n",
    "\n",
    "#### Boosting梯度\n",
    "\n",
    "### 总结"
   ]
  },
  {
   "cell_type": "markdown",
   "metadata": {},
   "source": [
    "## 第三章：使用TF进行神经网络和深度学习\n",
    "\n",
    "### 什么是神经网络\n",
    "\n",
    "#### 神经元\n",
    "\n",
    "#### 人造神经网络\n",
    "\n",
    "#### 简单的神经网络结构\n",
    "\n",
    "### 前向传播和方向传播\n",
    "\n",
    "### 使用TF2.0构建神经网络\n",
    "\n",
    "#### 关于数据集\n",
    "\n",
    "### 深度神经网络\n",
    "\n",
    "### 使用TF2.0构建深度神经网络\n",
    "\n",
    "### 使用Keras模型进行评估\n",
    "\n",
    "### 总结"
   ]
  },
  {
   "cell_type": "markdown",
   "metadata": {},
   "source": [
    "## 第四章：TF在图像领域的应用\n",
    "\n",
    "### 图像处理\n",
    "\n",
    "### 卷积神经网络\n",
    "\n",
    "#### 卷基层\n",
    "\n",
    "#### 池化层\n",
    "\n",
    "#### 全连接层\n",
    "\n",
    "### 使用TF2.0构建卷积网络\n",
    "\n",
    "### 先进的卷积神经网络结构\n",
    "\n",
    "### 迁移学习\n",
    "\n",
    "#### 迁移学习和机器学习\n",
    "\n",
    "### TF2.0构建可变自编码网络\n",
    "\n",
    "#### 自编码\n",
    "\n",
    "#### 引用自编码\n",
    "\n",
    "#### 可变自编码网络\n",
    "\n",
    "#### 使用TF2.0执行可变自编码网络\n",
    "\n",
    "### 总结"
   ]
  },
  {
   "cell_type": "markdown",
   "metadata": {},
   "source": [
    "## 第五章：TF在自然语言处理领域的应用\n",
    "\n",
    "### NLP总览\n",
    "\n",
    "### 文本处理\n",
    "\n",
    "#### Tokenization\n",
    "\n",
    "#### 词嵌入\n",
    "\n",
    "### 使用TF进行文本分类\n",
    "\n",
    "#### 文本处理\n",
    "\n",
    "#### 深度学习模型\n",
    "\n",
    "#### 嵌入\n",
    "\n",
    "### TF项目\n",
    "\n",
    "### 总结"
   ]
  },
  {
   "cell_type": "markdown",
   "metadata": {},
   "source": [
    "## 第六章：TF模型应用\n",
    "\n",
    "### 模型部署\n",
    "\n",
    "#### 隔离\n",
    "\n",
    "#### 协作\n",
    "\n",
    "#### 模型升级\n",
    "\n",
    "#### 模型执行\n",
    "\n",
    "#### 负载均衡\n",
    "\n",
    "### 基于Python的模型部署\n",
    "\n",
    "#### 保存和还原机器学习模型\n",
    "\n",
    "#### 将机器学习模型作为REST服务进行部署\n",
    "\n",
    "#### 模板\n",
    "\n",
    "#### 使用Flask的挑战\n",
    "\n",
    "### 构建基于TF的Keras模型\n",
    "\n",
    "### TF ind 部署\n",
    "\n",
    "### 总结"
   ]
  },
  {
   "cell_type": "markdown",
   "metadata": {},
   "source": [
    "## 索引"
   ]
  }
 ],
 "metadata": {
  "kernelspec": {
   "display_name": "Python 3",
   "language": "python",
   "name": "python3"
  },
  "language_info": {
   "codemirror_mode": {
    "name": "ipython",
    "version": 3
   },
   "file_extension": ".py",
   "mimetype": "text/x-python",
   "name": "python",
   "nbconvert_exporter": "python",
   "pygments_lexer": "ipython3",
   "version": "3.6.9"
  },
  "toc": {
   "base_numbering": 1,
   "nav_menu": {},
   "number_sections": true,
   "sideBar": true,
   "skip_h1_title": false,
   "title_cell": "Table of Contents",
   "title_sidebar": "Contents",
   "toc_cell": true,
   "toc_position": {},
   "toc_section_display": true,
   "toc_window_display": false
  }
 },
 "nbformat": 4,
 "nbformat_minor": 4
}
