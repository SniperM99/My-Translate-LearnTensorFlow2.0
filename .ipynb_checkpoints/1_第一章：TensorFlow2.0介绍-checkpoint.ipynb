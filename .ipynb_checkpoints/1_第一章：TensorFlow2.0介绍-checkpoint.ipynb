{
 "cells": [
  {
   "cell_type": "markdown",
   "metadata": {},
   "source": [
    "<h1>Table of Contents<span class=\"tocSkip\"></span></h1>\n",
    "<div class=\"toc\"><ul class=\"toc-item\"><li><span><a href=\"#第一章：TensorFlow2.0介绍\" data-toc-modified-id=\"第一章：TensorFlow2.0介绍-1\"><span class=\"toc-item-num\">1&nbsp;&nbsp;</span>第一章：TensorFlow2.0介绍</a></span><ul class=\"toc-item\"><li><span><a href=\"#Tensor-+-Flow-=-TensorFlow\" data-toc-modified-id=\"Tensor-+-Flow-=-TensorFlow-1.1\"><span class=\"toc-item-num\">1.1&nbsp;&nbsp;</span>Tensor + Flow = TensorFlow</a></span><ul class=\"toc-item\"><li><span><a href=\"#组成和基本的向量\" data-toc-modified-id=\"组成和基本的向量-1.1.1\"><span class=\"toc-item-num\">1.1.1&nbsp;&nbsp;</span>组成和基本的向量</a></span></li></ul></li><li><span><a href=\"#ensor张量\" data-toc-modified-id=\"ensor张量-1.2\"><span class=\"toc-item-num\">1.2&nbsp;&nbsp;</span>ensor张量</a></span><ul class=\"toc-item\"><li><span><a href=\"#排序\" data-toc-modified-id=\"排序-1.2.1\"><span class=\"toc-item-num\">1.2.1&nbsp;&nbsp;</span>排序</a></span></li><li><span><a href=\"#形状\" data-toc-modified-id=\"形状-1.2.2\"><span class=\"toc-item-num\">1.2.2&nbsp;&nbsp;</span>形状</a></span></li><li><span><a href=\"#流动\" data-toc-modified-id=\"流动-1.2.3\"><span class=\"toc-item-num\">1.2.3&nbsp;&nbsp;</span>流动</a></span></li></ul></li><li><span><a href=\"#TensorFlow1.0-与-TensorFlow2.0-对比\" data-toc-modified-id=\"TensorFlow1.0-与-TensorFlow2.0-对比-1.3\"><span class=\"toc-item-num\">1.3&nbsp;&nbsp;</span>TensorFlow1.0 与 TensorFlow2.0 对比</a></span><ul class=\"toc-item\"><li><span><a href=\"#使用相关变动\" data-toc-modified-id=\"使用相关变动-1.3.1\"><span class=\"toc-item-num\">1.3.1&nbsp;&nbsp;</span>使用相关变动</a></span></li><li><span><a href=\"#性能相关变动\" data-toc-modified-id=\"性能相关变动-1.3.2\"><span class=\"toc-item-num\">1.3.2&nbsp;&nbsp;</span>性能相关变动</a></span></li></ul></li><li><span><a href=\"#TensorFlow2.0上的安装和基本操作\" data-toc-modified-id=\"TensorFlow2.0上的安装和基本操作-1.4\"><span class=\"toc-item-num\">1.4&nbsp;&nbsp;</span>TensorFlow2.0上的安装和基本操作</a></span><ul class=\"toc-item\"><li><span><a href=\"#Anaconda\" data-toc-modified-id=\"Anaconda-1.4.1\"><span class=\"toc-item-num\">1.4.1&nbsp;&nbsp;</span>Anaconda</a></span></li><li><span><a href=\"#Colab\" data-toc-modified-id=\"Colab-1.4.2\"><span class=\"toc-item-num\">1.4.2&nbsp;&nbsp;</span>Colab</a></span></li><li><span><a href=\"#Databricks\" data-toc-modified-id=\"Databricks-1.4.3\"><span class=\"toc-item-num\">1.4.3&nbsp;&nbsp;</span>Databricks</a></span></li></ul></li><li><span><a href=\"#总结\" data-toc-modified-id=\"总结-1.5\"><span class=\"toc-item-num\">1.5&nbsp;&nbsp;</span>总结</a></span></li></ul></li></ul></div>"
   ]
  },
  {
   "cell_type": "markdown",
   "metadata": {},
   "source": [
    "## 第一章：TensorFlow2.0介绍\n",
    "\n",
    "本书的目的是向读者介绍最新版本的TensorFlow库。因此，第一章主要关注自TensorFlow 1.0的第一个版本以来，TensorFlow库中发生了更改。除了突出显示具体内容外，我们还将介绍各种更改有待更改的部分。本章分为分为三个部分：第一部分讨论TensorFlow的内部结构；第二部分讨论TensorFlow的内部结构。第二个重点是已经在TensorFlow 1.0之后的TensorFlow 2.0;最后一节涵盖TensorFlow 2.0的安装方法和基本操作。\n",
    "\n",
    "您可能已经知道TensorFlow被广泛用作机器学习实现库。它是由Google创建的作为Google Brain项目的一部分，后来作为开源产品，因为有多种机器学习和引起用户注意的深度学习框架。借助开放源代码的可用性，越来越多的人为情报（AI）和机器学习社区能够采用TensorFlow并在其之上构建功能和产品。不只是帮助用户实施标准机器学习并深度学习算法，但也允许他们实施自定义以及用于商业应用和各种研究目的的不同算法版本。实际上，它很快成为最受欢迎的游戏之一机器学习和AI社区中的库-如此之多人们已经使用TensorFlow构建了大量的应用程序在引擎盖下。这主要是由于Google本身使用TensorFlow的大多数产品，无论是Google Maps，Gmail，或其他应用。\n",
    "\n",
    "虽然TensorFlow在某些领域具有优势，但也有一些优势局限性，由于开发人员觉得难以采用，与PyTorch，Theano和OpenCV等其他库相比。如Google的TensorFlow小组接受了TensorFlow的反馈社区很认真，它回到了画板，开始了致力于使TensorFlow变得更多的大多数更改有效且易于使用，即将推出TensorFlow 2.0 alpha今年的版本。 TensorFlow 2.0声称已删除了一些之前的障碍，以便允许开发人员甚至使用TensorFlow更无缝地在本章中，我们将逐一介绍这些更改，但是在介绍这些内容之前，让我们花一些时间来了解什么正是TensorFlow是什么，使其成为最佳可用选项之一今天进行机器学习和深度学习。"
   ]
  },
  {
   "cell_type": "markdown",
   "metadata": {},
   "source": [
    "### Tensor + Flow = TensorFlow\n",
    "\n",
    "张量是TensorFlow的构建块，因为所有计算都是使用张量完成。那么，张量到底是什么？\n",
    "\n",
    "根据Google TensorFlow小组提供的定义，\n",
    "\n",
    "> 张量是向量和矩阵的一般化，可能具有更高的维数。在内部，TensorFlow代表张量作为基本数据类型的n维数组。\n",
    "\n",
    "但是我们想更深入地研究张量，以便提供的不仅仅是它们的一般概述。我们想要将它们与向量或矩阵进行比较，以突出显示使张量如此强大的关键动态属性。让我们从一个简单的向量开始。向量通常被理解为具有大小和一个方向。简而言之，它是一个包含有序值列表的数组。如果没有向量的方向，张量将成为具有以下项的标量值：只有幅度。\n",
    "\n",
    "向量可用于表示n个事物。它可以代表区域和不同的属性，等等。但是，让我们超越只是大小和方向，并试图了解真正的组成部分向量。"
   ]
  },
  {
   "cell_type": "markdown",
   "metadata": {},
   "source": [
    "#### 组成和基本的向量\n",
    "\n",
    "假设我们有一个向量Aˆ，如图1-1所示。 这是目前代表没有任何坐标系考虑，但我们大多数人已经知道笛卡尔坐标系（x，y，z轴）。\n",
    "\n"
   ]
  },
  {
   "cell_type": "markdown",
   "metadata": {},
   "source": [
    "\n",
    "\n",
    "\n",
    "\n",
    "### ensor张量\n",
    "\n",
    "#### 排序\n",
    "\n",
    "#### 形状\n",
    "\n",
    "#### 流动\n",
    "\n",
    "### TensorFlow1.0 与 TensorFlow2.0 对比\n",
    "\n",
    "#### 使用相关变动\n",
    "\n",
    "#### 性能相关变动\n",
    "\n",
    "### TensorFlow2.0上的安装和基本操作\n",
    "\n",
    "#### Anaconda\n",
    "\n",
    "#### Colab\n",
    "\n",
    "#### Databricks\n",
    "\n",
    "### 总结"
   ]
  },
  {
   "cell_type": "code",
   "execution_count": null,
   "metadata": {},
   "outputs": [],
   "source": []
  }
 ],
 "metadata": {
  "kernelspec": {
   "display_name": "Python 3",
   "language": "python",
   "name": "python3"
  },
  "language_info": {
   "codemirror_mode": {
    "name": "ipython",
    "version": 3
   },
   "file_extension": ".py",
   "mimetype": "text/x-python",
   "name": "python",
   "nbconvert_exporter": "python",
   "pygments_lexer": "ipython3",
   "version": "3.6.9"
  },
  "toc": {
   "base_numbering": 1,
   "nav_menu": {},
   "number_sections": true,
   "sideBar": false,
   "skip_h1_title": false,
   "title_cell": "Table of Contents",
   "title_sidebar": "Contents",
   "toc_cell": false,
   "toc_position": {
    "height": "332px",
    "left": "0px",
    "top": "110px",
    "width": "279.391px"
   },
   "toc_section_display": true,
   "toc_window_display": true
  }
 },
 "nbformat": 4,
 "nbformat_minor": 4
}
